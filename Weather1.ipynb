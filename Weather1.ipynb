{
  "nbformat": 4,
  "nbformat_minor": 0,
  "metadata": {
    "colab": {
      "provenance": [],
      "toc_visible": true,
      "name": "Weatherandstocks1.ipynb",
      "authorship_tag": "ABX9TyO1KuwLXluiniJ+baKDGC92",
      "include_colab_link": true
    },
    "kernelspec": {
      "name": "python3",
      "display_name": "Python 3"
    },
    "language_info": {
      "name": "python"
    }
  },
  "cells": [
    {
      "cell_type": "markdown",
      "metadata": {
        "id": "view-in-github",
        "colab_type": "text"
      },
      "source": [
        "<a href=\"https://colab.research.google.com/github/PrathinSrinarayanan/Python-Class-Projects/blob/main/Weatherandstocks1.ipynb\" target=\"_parent\"><img src=\"https://colab.research.google.com/assets/colab-badge.svg\" alt=\"Open In Colab\"/></a>"
      ]
    },
    {
      "cell_type": "markdown",
      "source": [
        "#This is the weather in Chicago\n"
      ],
      "metadata": {
        "id": "ZBbHJhxIvDKS"
      }
    },
    {
      "cell_type": "code",
      "source": [
        "# Import the requests library to handle API requests\n",
        "import requests\n",
        "\n",
        "# Define the URL for the API request, (Note: This API is real-time.) specifying the latitude and longitude\n",
        "# for the location (Chicago in this case)\n",
        "url = \"https://api.open-meteo.com/v1/forecast?latitude=41.87&longitude=-87.62&current=temperature_2m\"\n",
        "\n",
        "# Send a GET request to the specified URL\n",
        "response = requests.get(url)\n",
        "\n",
        "# Parse the JSON response data\n",
        "data = response.json()\n",
        "# Print the current temperature and its unit\n",
        "# Access the \"temperature_2m\" field from the \"current\" section and\n",
        "# the unit of the \"temperature_2m\" field from the \"current_units\"\n",
        "# section of the JSON response\n",
        "temperature = data[\"current\"][\"temperature_2m\"]\n",
        "unit = data[\"current_units\"][\"temperature_2m\"]\n",
        "print(\"The temperature in Chicago is currently:\")\n",
        "print(f'{temperature}{unit}')"
      ],
      "metadata": {
        "id": "ZghRqyDZvX3g",
        "outputId": "f37bae8e-b63d-4883-8c43-249e402b1e6b",
        "colab": {
          "base_uri": "https://localhost:8080/"
        },
        "collapsed": true
      },
      "execution_count": null,
      "outputs": [
        {
          "output_type": "stream",
          "name": "stdout",
          "text": [
            "The temperature in Chicago is currently:\n",
            "26.8°C\n"
          ]
        }
      ]
    }
  ]
}
