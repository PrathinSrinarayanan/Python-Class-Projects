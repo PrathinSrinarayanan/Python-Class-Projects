{
  "nbformat": 4,
  "nbformat_minor": 0,
  "metadata": {
    "colab": {
      "provenance": [],
      "authorship_tag": "ABX9TyPt6SmyyKrxMsDu1UD90xtB",
      "include_colab_link": true
    },
    "kernelspec": {
      "name": "python3",
      "display_name": "Python 3"
    },
    "language_info": {
      "name": "python"
    }
  },
  "cells": [
    {
      "cell_type": "markdown",
      "metadata": {
        "id": "view-in-github",
        "colab_type": "text"
      },
      "source": [
        "<a href=\"https://colab.research.google.com/github/PrathinSrinarayanan/Python-Class-Projects/blob/main/Stocks5.ipynb\" target=\"_parent\"><img src=\"https://colab.research.google.com/assets/colab-badge.svg\" alt=\"Open In Colab\"/></a>"
      ]
    },
    {
      "cell_type": "markdown",
      "source": [
        "# To show shares of stocks in tuples"
      ],
      "metadata": {
        "id": "EbJYqVPKGjok"
      }
    },
    {
      "cell_type": "code",
      "source": [
        "import requests\n",
        "\n",
        "stocks = [\n",
        "    (\"NVDA\", \"NVIDIA\", 100),\n",
        "    (\"TSLA\", \"Tesla\", 10),\n",
        "    (\"FRSH\", \"Freshworks\", 15),\n",
        "    (\"JPM\", \"JPMorgan Chase\", 10),\n",
        "    (\"DIA\", \"Dow Jones Industrial Average\", 200),\n",
        "    (\"MSFT\", \"Microsoft Corporation\", 500)\n",
        "]\n",
        "\n",
        "api_key = \"GTOFHBHOV60QAWEH\"\n",
        "\n",
        "def get_stock_prices(symbol):\n",
        "    url = f\"https://www.alphavantage.co/query?function=GLOBAL_QUOTE&symbol={symbol}&apikey={api_key}\"\n",
        "    response = requests.get(url)\n",
        "    data = response.json()\n",
        "    current_price = float(data[\"Global Quote\"][\"05. price\"])\n",
        "    previous_day_price = float(data[\"Global Quote\"][\"08. previous close\"])\n",
        "    return current_price, previous_day_price\n",
        "\n",
        "total_portfolio_profit = 0\n",
        "\n",
        "for stock in stocks:\n",
        "    symbol, name, stock_holding = stock\n",
        "    current_price, previous_day_price = get_stock_prices(symbol)\n",
        "    change = current_price - previous_day_price\n",
        "    total_money = stock_holding * current_price\n",
        "    profit_from_yesterday = stock_holding * change\n",
        "    total_portfolio_profit += profit_from_yesterday\n",
        "\n",
        "    print(f\"The current price of {name} ({symbol}) is ${current_price:,.2f}.\")\n",
        "    print(f\"The closing price of {name} ({symbol}) on the previous trading day was ${previous_day_price:,.2f}.\")\n",
        "    print(f\"\")\n",
        "    print(f\"The price has changed by ${change:,.2f}.\")\n",
        "    print(f\"All of your shares of {name} are worth ${total_money:,.2f}.\")\n",
        "    if profit_from_yesterday >= 0:\n",
        "        print(f\"You have profited ${profit_from_yesterday:,.2f} off of {name} from yesterday.\")\n",
        "    else:\n",
        "        print(f\"You have made a loss of ${-profit_from_yesterday:,.2f} off of {name} from yesterday.\")\n",
        "    print(\"\")\n",
        "    print(\"\")\n",
        "\n",
        "if total_portfolio_profit >= 0:\n",
        "    print(f\"Your total profit across all your stocks is ${total_portfolio_profit:,.2f}.\")\n",
        "    print(\"\")\n",
        "else:\n",
        "    print(f\"Your total loss across all your stocks is ${-total_portfolio_profit:,.2f}.\")\n",
        "    print(\"\")\n"
      ],
      "metadata": {
        "id": "Z7IGmMeq9Bqb",
        "colab": {
          "base_uri": "https://localhost:8080/"
        },
        "outputId": "23878b66-552b-4f6e-c614-e7f927afe165"
      },
      "execution_count": null,
      "outputs": [
        {
          "output_type": "stream",
          "name": "stdout",
          "text": [
            "The current price of NVIDIA (NVDA) is $107.27.\n",
            "The closing price of NVIDIA (NVDA) on the previous trading day was $109.21.\n",
            "\n",
            "The price has changed by $-1.94.\n",
            "All of your shares of NVIDIA are worth $10,727.00.\n",
            "You have made a loss of $194.00 off of NVIDIA from yesterday.\n",
            "\n",
            "\n",
            "The current price of Tesla (TSLA) is $207.67.\n",
            "The closing price of Tesla (TSLA) on the previous trading day was $216.86.\n",
            "\n",
            "The price has changed by $-9.19.\n",
            "All of your shares of Tesla are worth $2,076.70.\n",
            "You have made a loss of $91.90 off of Tesla from yesterday.\n",
            "\n",
            "\n",
            "The current price of Freshworks (FRSH) is $11.67.\n",
            "The closing price of Freshworks (FRSH) on the previous trading day was $11.97.\n",
            "\n",
            "The price has changed by $-0.30.\n",
            "All of your shares of Freshworks are worth $175.05.\n",
            "You have made a loss of $4.50 off of Freshworks from yesterday.\n",
            "\n",
            "\n",
            "The current price of JPMorgan Chase (JPM) is $199.14.\n",
            "The closing price of JPMorgan Chase (JPM) on the previous trading day was $207.96.\n",
            "\n",
            "The price has changed by $-8.82.\n",
            "All of your shares of JPMorgan Chase are worth $1,991.40.\n",
            "You have made a loss of $88.20 off of JPMorgan Chase from yesterday.\n",
            "\n",
            "\n",
            "The current price of Dow Jones Industrial Average (DIA) is $397.13.\n",
            "The closing price of Dow Jones Industrial Average (DIA) on the previous trading day was $403.23.\n",
            "\n",
            "The price has changed by $-6.10.\n",
            "All of your shares of Dow Jones Industrial Average are worth $79,426.00.\n",
            "You have made a loss of $1,220.00 off of Dow Jones Industrial Average from yesterday.\n",
            "\n",
            "\n",
            "The current price of Microsoft Corporation (MSFT) is $408.49.\n",
            "The closing price of Microsoft Corporation (MSFT) on the previous trading day was $417.11.\n",
            "\n",
            "The price has changed by $-8.62.\n",
            "All of your shares of Microsoft Corporation are worth $204,245.00.\n",
            "You have made a loss of $4,310.00 off of Microsoft Corporation from yesterday.\n",
            "\n",
            "\n",
            "Your total loss across all your stocks is $5,908.60.\n",
            "\n"
          ]
        }
      ]
    }
  ]
}