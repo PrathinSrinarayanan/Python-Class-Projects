{
  "nbformat": 4,
  "nbformat_minor": 0,
  "metadata": {
    "colab": {
      "provenance": [],
      "authorship_tag": "ABX9TyMpviV1sDprd9XUqiPrx2Zf",
      "include_colab_link": true
    },
    "kernelspec": {
      "name": "python3",
      "display_name": "Python 3"
    },
    "language_info": {
      "name": "python"
    }
  },
  "cells": [
    {
      "cell_type": "markdown",
      "metadata": {
        "id": "view-in-github",
        "colab_type": "text"
      },
      "source": [
        "<a href=\"https://colab.research.google.com/github/PrathinSrinarayanan/Python-Class-Projects/blob/main/Stocks5.ipynb\" target=\"_parent\"><img src=\"https://colab.research.google.com/assets/colab-badge.svg\" alt=\"Open In Colab\"/></a>"
      ]
    },
    {
      "cell_type": "markdown",
      "source": [
        "# To show shares of stocks in tuples"
      ],
      "metadata": {
        "id": "EbJYqVPKGjok"
      }
    },
    {
      "cell_type": "code",
      "source": [
        "import requests\n",
        "\n",
        "stocks = [\n",
        "    (\"AAPL\", \"Apple Inc\", 100),\n",
        "    (\"NVDA\", \"NVIDIA Corporation\", 10),\n",
        "    (\"T\", \"AT&T\", 15),\n",
        "    (\"DIA\", \"Dow Jones Industrial Average\", 200),\n",
        "    (\"MSFT\", \"Microsoft Corporation\", 500)\n",
        "]\n",
        "\n",
        "api_key = \"Your Alphavantage API Key here\"\n",
        "\n",
        "def get_stock_prices(symbol):\n",
        "    url = f\"https://www.alphavantage.co/query?function=GLOBAL_QUOTE&symbol={symbol}&apikey={api_key}\"\n",
        "    response = requests.get(url)\n",
        "    data = response.json()\n",
        "    current_price = float(data[\"Global Quote\"][\"05. price\"])\n",
        "    previous_day_price = float(data[\"Global Quote\"][\"08. previous close\"])\n",
        "    return current_price, previous_day_price\n",
        "\n",
        "total_portfolio_profit = 0\n",
        "\n",
        "for stock in stocks:\n",
        "    symbol, name, stock_holding = stock\n",
        "    current_price, previous_day_price = get_stock_prices(symbol)\n",
        "    change = current_price - previous_day_price\n",
        "    total_money = stock_holding * current_price\n",
        "    profit_from_yesterday = stock_holding * change\n",
        "    total_portfolio_profit += profit_from_yesterday\n",
        "\n",
        "    print(f\"The current price of {name} ({symbol}) is ${current_price:,.2f}.\")\n",
        "    print(f\"The closing price of {name} ({symbol}) on the previous trading day was ${previous_day_price:,.2f}.\")\n",
        "    print(f\"\")\n",
        "    print(f\"The price has changed by ${change:,.2f}.\")\n",
        "    print(f\"All of your shares of {name} are worth ${total_money:,.2f}.\")\n",
        "    if profit_from_yesterday >= 0:\n",
        "        print(f\"You have profited ${profit_from_yesterday:,.2f} off of {name} from yesterday.\")\n",
        "    else:\n",
        "        print(f\"You have made a loss of ${-profit_from_yesterday:,.2f} off of {name} from yesterday.\")\n",
        "    print(\"\")\n",
        "    print(\"\")\n",
        "\n",
        "if total_portfolio_profit >= 0:\n",
        "    print(f\"Your total profit across all your stocks is ${total_portfolio_profit:,.2f}.\")\n",
        "    print(\"\")\n",
        "else:\n",
        "    print(f\"Your total loss across all your stocks is ${-total_portfolio_profit:,.2f}.\")\n",
        "    print(\"\")\n"
      ],
      "metadata": {
        "id": "Z7IGmMeq9Bqb"
      },
      "execution_count": null,
      "outputs": []
    }
  ]
}