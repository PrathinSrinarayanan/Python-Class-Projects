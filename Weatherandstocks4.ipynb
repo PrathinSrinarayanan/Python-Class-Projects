{
  "nbformat": 4,
  "nbformat_minor": 0,
  "metadata": {
    "colab": {
      "provenance": [],
      "authorship_tag": "ABX9TyPrLr8wJ0RBwEv5X7G2WUhe",
      "include_colab_link": true
    },
    "kernelspec": {
      "name": "python3",
      "display_name": "Python 3"
    },
    "language_info": {
      "name": "python"
    }
  },
  "cells": [
    {
      "cell_type": "markdown",
      "metadata": {
        "id": "view-in-github",
        "colab_type": "text"
      },
      "source": [
        "<a href=\"https://colab.research.google.com/github/PrathinSrinarayanan/Python-Class-Projects/blob/main/Weatherandstocks4.ipynb\" target=\"_parent\"><img src=\"https://colab.research.google.com/assets/colab-badge.svg\" alt=\"Open In Colab\"/></a>"
      ]
    },
    {
      "cell_type": "markdown",
      "source": [
        "# Stock Market Price Finder today and yesterday"
      ],
      "metadata": {
        "id": "JMoOt7Cb9_UT"
      }
    },
    {
      "cell_type": "markdown",
      "source": [
        "*NVIDIA, Tesla, Freshworks, JPMorgan Chase, Dow Jones ETF Trust, Microsoft.*"
      ],
      "metadata": {
        "id": "pFWOwYvv_W1g"
      }
    },
    {
      "cell_type": "code",
      "source": [
        "import requests\n",
        "\n",
        "# Define stocks using tuples\n",
        "stocks = [\n",
        "    (\"NVDA\", \"NVIDIA\"),\n",
        "    (\"TSLA\", \"Tesla\"),\n",
        "    (\"FRSH\", \"Freshworks\"),\n",
        "    (\"JPM\", \"JPMorgan Chase\"),\n",
        "    (\"DIA\", \"SPDR Dow Jones Industrial Average ETF Trust\"),\n",
        "    (\"MSFT\", \"Microsoft Corporation\")\n",
        "]\n",
        "\n",
        "# Alpha Vantage API key\n",
        "api_key = \"Your API key here\"\n",
        "\n",
        "# Function to get the current stock price\n",
        "def get_stock_price(symbol):\n",
        "  # API endpoint with the stock symbol and API key\n",
        "    url = f\"https://www.alphavantage.co/query?function=GLOBAL_QUOTE&symbol={symbol}&apikey={api_key}\"\n",
        "    # Send a GET request for the API\n",
        "    response = requests.get(url)\n",
        "    data = response.json()\n",
        "      # check if the response contains the 'Global Quote' dach\n",
        "            # Return the stock price\n",
        "    if \"Global Quote\" in data:\n",
        "        current_price = data[\"Global Quote\"][\"05. price\"]\n",
        "        closing_price = data[\"Global Quote\"][\"08. previous close\"]\n",
        "        difference = data[\"Global Quote\"][\"09. change\"]\n",
        "        return current_price, closing_price, difference\n",
        "    else:\n",
        "        return None, None\n",
        "# Loop through each stock in the stocks list\n",
        "for stock in stocks:\n",
        "    # Unpack the tuple into symbol and name\n",
        "    symbol, name = stock\n",
        "\n",
        "    current_price, closing_price, difference = get_stock_price(symbol)\n",
        "\n",
        "    # Check if the price was successfully retrieved\n",
        "    if current_price and closing_price and difference:\n",
        "        # Print the stock price\n",
        "        print(f\"The current price of {name} ({symbol}) is ${current_price}\")\n",
        "        print(f\"Yesterday's closing stock price was ${closing_price}\")\n",
        "        print(f\"A change of {difference} from yesterday.\")\n",
        "        print()\n",
        "    else:\n",
        "        # Print an error message if the price could not be retrieved\n",
        "        print(f\"Failed to retrieve the price for {name} ({symbol})\")"
      ],
      "metadata": {
        "id": "gGt_JmM5V0Mf",
        "colab": {
          "base_uri": "https://localhost:8080/"
        },
        "outputId": "8e3c1bb6-fa49-41dd-9e2a-14072c7f0ddd"
      },
      "execution_count": null,
      "outputs": [
        {
          "output_type": "stream",
          "name": "stdout",
          "text": [
            "The current price of NVIDIA (NVDA) is $126.4000\n",
            "Yesterday's closing stock price was $126.0900\n",
            "A change of 0.3100 from yesterday.\n",
            "\n",
            "The current price of Tesla (TSLA) is $196.3700\n",
            "Yesterday's closing stock price was $187.3500\n",
            "A change of 9.0200 from yesterday.\n",
            "\n",
            "The current price of Freshworks (FRSH) is $12.4300\n",
            "Yesterday's closing stock price was $12.2100\n",
            "A change of 0.2200 from yesterday.\n",
            "\n",
            "The current price of JPMorgan Chase (JPM) is $197.4300\n",
            "Yesterday's closing stock price was $198.0700\n",
            "A change of -0.6400 from yesterday.\n",
            "\n",
            "The current price of SPDR Dow Jones Industrial Average ETF Trust (DIA) is $391.2400\n",
            "Yesterday's closing stock price was $391.0200\n",
            "A change of 0.2200 from yesterday.\n",
            "\n",
            "The current price of Microsoft Corporation (MSFT) is $452.1600\n",
            "Yesterday's closing stock price was $450.9500\n",
            "A change of 1.2100 from yesterday.\n",
            "\n"
          ]
        }
      ]
    }
  ]
}